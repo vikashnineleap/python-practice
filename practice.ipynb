{
 "cells": [
  {
   "cell_type": "markdown",
   "metadata": {},
   "source": [
    "# Python practice\n"
   ]
  },
  {
   "cell_type": "code",
   "execution_count": 3,
   "metadata": {},
   "outputs": [
    {
     "name": "stdout",
     "output_type": "stream",
     "text": [
      "The area of rectangle is 5000\n"
     ]
    }
   ],
   "source": [
    "# python program to calculate area of rectangle given its length and width\n",
    "\n",
    "length=100\n",
    "width=50\n",
    "area=length*width\n",
    "print('The area of rectangle is' ,area)"
   ]
  },
  {
   "cell_type": "code",
   "execution_count": null,
   "metadata": {},
   "outputs": [
    {
     "name": "stdout",
     "output_type": "stream",
     "text": [
      "Hello Vikash, you are 30 years old\n"
     ]
    }
   ],
   "source": [
    "name=input(\"What is your name\")\n",
    "age=int(input(\"What is your age\"))\n",
    "print(f'Hello {name}, you are {age} years old.')"
   ]
  },
  {
   "cell_type": "code",
   "execution_count": 5,
   "metadata": {},
   "outputs": [
    {
     "name": "stdout",
     "output_type": "stream",
     "text": [
      "The number is odd\n"
     ]
    }
   ],
   "source": [
    "num=int(input(\"Enter a number\"))\n",
    "if num%2==0:\n",
    "    print(\"The number is even\")\n",
    "else: \n",
    "    print(\"The number is odd\")"
   ]
  },
  {
   "cell_type": "code",
   "execution_count": 8,
   "metadata": {},
   "outputs": [
    {
     "name": "stdout",
     "output_type": "stream",
     "text": [
      "The maximum number is 88677\n",
      "The minimum number is 1\n"
     ]
    }
   ],
   "source": [
    "arr=[1,34,354,43655,456,45,3,4,4343,4,34,3,43,4,63,645,6,45,67,57,8,68,68,67,88677,86,78,68,677,86,867,8,68,67,867,8,686,7]\n",
    "print('The maximum number is', max(arr))\n",
    "print('The minimum number is', min(arr))"
   ]
  },
  {
   "cell_type": "code",
   "execution_count": 12,
   "metadata": {},
   "outputs": [
    {
     "name": "stdout",
     "output_type": "stream",
     "text": [
      "Palindrome\n"
     ]
    }
   ],
   "source": [
    "string=\"aabdbaa\"\n",
    "print(\"Palindrome\" if string==string[::-1] else \"Not palindrome\")"
   ]
  },
  {
   "cell_type": "code",
   "execution_count": null,
   "metadata": {},
   "outputs": [
    {
     "name": "stdout",
     "output_type": "stream",
     "text": [
      "1102.5\n"
     ]
    }
   ],
   "source": [
    "p=1000\n",
    "r=5\n",
    "t=2\n",
    "compound_interest= p*(1+r/100)**t\n",
    "print(\"The compound interest is \" ,compound_interest)"
   ]
  },
  {
   "cell_type": "code",
   "execution_count": 16,
   "metadata": {},
   "outputs": [
    {
     "name": "stdout",
     "output_type": "stream",
     "text": [
      "1 years, 5 weeks, and 1 days.\n"
     ]
    }
   ],
   "source": [
    "total_days=int(input(\"Enter the number of days\"))\n",
    "years=total_days//365\n",
    "remaining_days=total_days%365\n",
    "weeks=remaining_days//7\n",
    "days=remaining_days%7\n",
    "print(f\"{years} years, {weeks} weeks, and {days} days.\")\n"
   ]
  },
  {
   "cell_type": "code",
   "execution_count": 17,
   "metadata": {},
   "outputs": [
    {
     "name": "stdout",
     "output_type": "stream",
     "text": [
      "3998\n"
     ]
    }
   ],
   "source": [
    "arr=[32,342,12,-234,23,-34,-3421,-123,3432,-2342,123,34,-45]\n",
    "ans=0\n",
    "for i in arr:\n",
    "    if i>0:\n",
    "        ans+=i\n",
    "print(ans)"
   ]
  },
  {
   "cell_type": "code",
   "execution_count": 19,
   "metadata": {},
   "outputs": [
    {
     "name": "stdout",
     "output_type": "stream",
     "text": [
      "The length of string is  2\n"
     ]
    }
   ],
   "source": [
    "sentence=input(\"Enter a sentence\")\n",
    "sentence=sentence.split(\" \")\n",
    "print(\"The length of string is \", len(sentence))"
   ]
  },
  {
   "cell_type": "code",
   "execution_count": 20,
   "metadata": {},
   "outputs": [
    {
     "name": "stdout",
     "output_type": "stream",
     "text": [
      "The first number is  34\n",
      "The second number is  43\n",
      "After swap\n",
      "The first number is  43\n",
      "The second number is  34\n"
     ]
    }
   ],
   "source": [
    "a=int(input(\"Enter a first number\"))\n",
    "b=int(input(\"Enter a second number\"))\n",
    "print(\"The first number is \", a)\n",
    "print(\"The second number is \", b)\n",
    "b,a=a,b\n",
    "print(\"After swap\")\n",
    "print(\"The first number is \", a)\n",
    "print(\"The second number is \", b)"
   ]
  },
  {
   "cell_type": "code",
   "execution_count": 21,
   "metadata": {},
   "outputs": [
    {
     "name": "stdout",
     "output_type": "stream",
     "text": [
      "the sum is  142327\n",
      "the average is 3745.4473684210525\n"
     ]
    }
   ],
   "source": [
    "arr=[1,34,354,43655,456,45,3,4,4343,4,34,3,43,4,63,645,6,45,67,57,8,68,68,67,88677,86,78,68,677,86,867,8,68,67,867,8,686,7]\n",
    "print('the sum is ',sum(arr))\n",
    "print('the average is',(sum(arr)/len(arr)))"
   ]
  },
  {
   "cell_type": "code",
   "execution_count": 22,
   "metadata": {},
   "outputs": [
    {
     "name": "stdout",
     "output_type": "stream",
     "text": [
      "temp in kelvin is  329.15\n"
     ]
    }
   ],
   "source": [
    "temp=int(input(\"Enter celsius temp\"))\n",
    "print('temp in kelvin is ',temp+273.15)"
   ]
  },
  {
   "cell_type": "code",
   "execution_count": 23,
   "metadata": {},
   "outputs": [
    {
     "name": "stdout",
     "output_type": "stream",
     "text": [
      "Palindrome\n"
     ]
    }
   ],
   "source": [
    "string=\"aabdbaa\"\n",
    "print(\"Palindrome\" if string==string[::-1] else \"Not palindrome\")"
   ]
  },
  {
   "cell_type": "code",
   "execution_count": 24,
   "metadata": {},
   "outputs": [
    {
     "name": "stdout",
     "output_type": "stream",
     "text": [
      "bbaa\n"
     ]
    }
   ],
   "source": [
    "string='aabb'\n",
    "print(string[::-1])"
   ]
  },
  {
   "cell_type": "code",
   "execution_count": 25,
   "metadata": {},
   "outputs": [
    {
     "name": "stdout",
     "output_type": "stream",
     "text": [
      "paul,john,jim\n"
     ]
    }
   ],
   "source": [
    "arr=[\"paul\",\"john\",\"jim\"]\n",
    "print(','.join(arr))"
   ]
  },
  {
   "cell_type": "code",
   "execution_count": null,
   "metadata": {},
   "outputs": [
    {
     "name": "stdout",
     "output_type": "stream",
     "text": [
      "Not a pangram\n"
     ]
    }
   ],
   "source": [
    "alphabet=['a', 'b', 'c', 'd', 'e', 'f', 'g', 'h', 'i', 'j', 'k', 'l', 'm', 'n', 'o', 'p', 'q', 'r', 's', 't', 'u', 'v', 'w', 'x', 'y', 'z']\n",
    "string='the quick brown fox jumps over the lazy dog'\n",
    "for i in alphabet:\n",
    "    if i not in string:\n",
    "        print(\"Not a pangram\")\n",
    "        break\n",
    "else:\n",
    "    print(\"Pangram\")"
   ]
  },
  {
   "cell_type": "code",
   "execution_count": 31,
   "metadata": {},
   "outputs": [
    {
     "name": "stdout",
     "output_type": "stream",
     "text": [
      "the area is 2270.0 and circumference is 454.0\n"
     ]
    }
   ],
   "source": [
    "radius=10\n",
    "area=22.7*radius*radius\n",
    "circumference=2*22.7*radius\n",
    "print(f'the area is {area} and circumference is {circumference}')"
   ]
  },
  {
   "cell_type": "code",
   "execution_count": 35,
   "metadata": {},
   "outputs": [
    {
     "name": "stdout",
     "output_type": "stream",
     "text": [
      "1 hours 40 minutes\n"
     ]
    }
   ],
   "source": [
    "given_min=int(input(\"Enter the minutes\"))\n",
    "hour=given_min//60\n",
    "minutes=given_min%60\n",
    "print(f'{hour} hours {minutes} minutes')"
   ]
  },
  {
   "cell_type": "code",
   "execution_count": 36,
   "metadata": {},
   "outputs": [
    {
     "name": "stdout",
     "output_type": "stream",
     "text": [
      "The number of vowels in string is 4\n"
     ]
    }
   ],
   "source": [
    "vowels=['a','e','i','o','u']\n",
    "string='i am a string'\n",
    "count=0\n",
    "for i in string:\n",
    "    if i in vowels:\n",
    "        count+=1\n",
    "print('The number of vowels in string is',count)"
   ]
  },
  {
   "cell_type": "code",
   "execution_count": 48,
   "metadata": {},
   "outputs": [
    {
     "name": "stdout",
     "output_type": "stream",
     "text": [
      "Prime number\n"
     ]
    }
   ],
   "source": [
    "given_num=int(input(\"enter a num\"))\n",
    "count=0\n",
    "if given_num <=1:\n",
    "    print(\"Not a prime\")\n",
    "else:\n",
    "    for i in range(2,given_num):\n",
    "        if given_num%i==0:\n",
    "            count+=1\n",
    "            break\n",
    "    print('Prime number' if count ==0 else \"Not a prime\")\n"
   ]
  }
 ],
 "metadata": {
  "kernelspec": {
   "display_name": "Python 3",
   "language": "python",
   "name": "python3"
  },
  "language_info": {
   "codemirror_mode": {
    "name": "ipython",
    "version": 3
   },
   "file_extension": ".py",
   "mimetype": "text/x-python",
   "name": "python",
   "nbconvert_exporter": "python",
   "pygments_lexer": "ipython3",
   "version": "3.13.0"
  }
 },
 "nbformat": 4,
 "nbformat_minor": 2
}
